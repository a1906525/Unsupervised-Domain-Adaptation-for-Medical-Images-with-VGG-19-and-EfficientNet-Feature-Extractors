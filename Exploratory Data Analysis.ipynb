{
  "nbformat": 4,
  "nbformat_minor": 0,
  "metadata": {
    "colab": {
      "provenance": []
    },
    "kernelspec": {
      "name": "python3",
      "display_name": "Python 3"
    },
    "language_info": {
      "name": "python"
    }
  },
  "cells": [
    {
      "cell_type": "markdown",
      "source": [
        "1) Load Google Colab, Mount the Directory."
      ],
      "metadata": {
        "id": "-RvXFOwV1JSt"
      }
    },
    {
      "cell_type": "code",
      "source": [
        "from google.colab import drive\n",
        "drive.mount('/content/drive')"
      ],
      "metadata": {
        "colab": {
          "base_uri": "https://localhost:8080/"
        },
        "id": "RKuScI021Jev",
        "outputId": "48ff8457-e993-44e0-beb8-94150b998c0e"
      },
      "execution_count": null,
      "outputs": [
        {
          "output_type": "stream",
          "name": "stdout",
          "text": [
            "Drive already mounted at /content/drive; to attempt to forcibly remount, call drive.mount(\"/content/drive\", force_remount=True).\n"
          ]
        }
      ]
    },
    {
      "cell_type": "markdown",
      "source": [
        "2) Inspect the Source - Number of images in each of the classes, common image size in every class, image channel in every class, overall image sizes and classes."
      ],
      "metadata": {
        "id": "Jwe43akY1X2i"
      }
    },
    {
      "cell_type": "code",
      "source": [
        "import os\n",
        "from PIL import Image\n",
        "from collections import defaultdict, Counter\n",
        "\n",
        "# Path to source samples\n",
        "src_dir = \"/content/drive/MyDrive/Research Project 2025/Datasets/Samples/Source - MedMNIST Samples\"\n",
        "\n",
        "# Prepare data structures\n",
        "class_counts = Counter()\n",
        "class_channels = defaultdict(Counter)\n",
        "class_resolutions = defaultdict(Counter)\n",
        "\n",
        "# Walk through each class folder\n",
        "for class_name in sorted(os.listdir(src_dir)):\n",
        "    class_path = os.path.join(src_dir, class_name)\n",
        "    if not os.path.isdir(class_path):\n",
        "        continue\n",
        "\n",
        "    # Iterate over files in class folder\n",
        "    for fname in os.listdir(class_path):\n",
        "        if not fname.lower().endswith(('.png', '.jpg', '.jpeg', '.bmp', '.tiff')):\n",
        "            continue\n",
        "        class_counts[class_name] += 1\n",
        "\n",
        "        # Open image and inspect\n",
        "        img_path = os.path.join(class_path, fname)\n",
        "        try:\n",
        "            with Image.open(img_path) as img:\n",
        "                # Channel info: mode 'RGB' vs 'L' (grayscale), etc.\n",
        "                mode = img.mode\n",
        "                class_channels[class_name][mode] += 1\n",
        "\n",
        "                # Resolution\n",
        "                res = img.size  # (width, height)\n",
        "                class_resolutions[class_name][res] += 1\n",
        "        except Exception as e:\n",
        "            print(f\"Error opening {img_path}: {e}\")\n",
        "\n",
        "# Display per-class summaries\n",
        "total_images = sum(class_counts.values())\n",
        "\n",
        "print(f\"\\n{'Class':<15}  Images  Channels (mode:count)           Top Resolutions (res:count)\")\n",
        "print(\"-\"*80)\n",
        "for cls in sorted(class_counts):\n",
        "    cnt = class_counts[cls]\n",
        "    channels_summary = \", \".join(f\"{mode}:{n}\" for mode, n in class_channels[cls].items())\n",
        "    # show the three most common resolutions\n",
        "    top_res = class_resolutions[cls].most_common(3)\n",
        "    res_summary = \", \".join(f\"{w}x{h}:{n}\" for (w,h), n in top_res)\n",
        "    print(f\"{cls:<15}  {cnt:<6}  {channels_summary:<30}  {res_summary}\")\n",
        "\n",
        "print(\"\\nTotal images across all classes:\", total_images)"
      ],
      "metadata": {
        "colab": {
          "base_uri": "https://localhost:8080/"
        },
        "id": "uiBTVjNF1YE4",
        "outputId": "b27669f1-81f3-4e11-ec63-3660e74cf07c"
      },
      "execution_count": null,
      "outputs": [
        {
          "output_type": "stream",
          "name": "stdout",
          "text": [
            "\n",
            "Class            Images  Channels (mode:count)           Top Resolutions (res:count)\n",
            "--------------------------------------------------------------------------------\n",
            "AbdomenCT        130     L:130                           64x64:130\n",
            "BreastMRI        130     L:130                           64x64:130\n",
            "CXR              130     L:130                           64x64:130\n",
            "ChestCT          130     L:130                           64x64:130\n",
            "HandXR           130     L:130                           64x64:130\n",
            "HeadCT           130     L:130                           64x64:130\n",
            "\n",
            "Total images across all classes: 780\n"
          ]
        }
      ]
    },
    {
      "cell_type": "markdown",
      "source": [
        "\"L\" means 1 channeled Gray scale.\n",
        "64x64 is not expected by VGG-19.\n",
        "\n",
        "The images must be converted from 64x64, Gray to 224x224, RGB for VGG-19."
      ],
      "metadata": {
        "id": "Z6za15t65MaY"
      }
    },
    {
      "cell_type": "markdown",
      "source": [
        "3) Convert the source data to 224x224, RGB (3-channels), and inspect befor and after conversions."
      ],
      "metadata": {
        "id": "OTwrFQ0A5DCG"
      }
    },
    {
      "cell_type": "code",
      "source": [
        "import os\n",
        "from PIL import Image\n",
        "from collections import Counter, defaultdict\n",
        "\n",
        "# ── Configuration ──────────────────────────────────────────────────────────\n",
        "src_dir  = \"/content/drive/MyDrive/Research Project 2025/Datasets/Samples/Source - MedMNIST Samples\"\n",
        "dest_dir = \"/content/drive/MyDrive/Research Project 2025/Preprocessed Datasets/Samples/Source - MedMNIST Labelled\"\n",
        "csv_src  = \"/content/drive/MyDrive/Research Project 2025/Datasets/Samples/Source - MedMNIST Samples/Source - MedMNIST Samples.csv\"\n",
        "csv_dst  = dest_dir + \"/Source - MedMNIST Samples.csv\"\n",
        "\n",
        "TARGET_SIZE = (224, 224)  # (width, height)\n",
        "# ── End configuration ──────────────────────────────────────────────────────\n",
        "\n",
        "\n",
        "def inspect_directory(path):\n",
        "    \"\"\"\n",
        "    Walk each class-subfolder under `path`, count images, record channel modes and resolutions.\n",
        "    Returns (class_counts, class_modes, class_resolutions).\n",
        "    \"\"\"\n",
        "    class_counts = Counter()\n",
        "    class_modes  = defaultdict(Counter)\n",
        "    class_res    = defaultdict(Counter)\n",
        "\n",
        "    for cls in sorted(os.listdir(path)):\n",
        "        cls_path = os.path.join(path, cls)\n",
        "        if not os.path.isdir(cls_path):\n",
        "            continue\n",
        "        for fname in os.listdir(cls_path):\n",
        "            if not fname.lower().endswith(('.png','.jpg','.jpeg','.bmp','.tiff')):\n",
        "                continue\n",
        "            class_counts[cls] += 1\n",
        "            img_path = os.path.join(cls_path, fname)\n",
        "            try:\n",
        "                with Image.open(img_path) as img:\n",
        "                    class_modes[cls][img.mode] += 1\n",
        "                    class_res[cls][img.size] += 1\n",
        "            except Exception as e:\n",
        "                print(f\"❌ Error opening {img_path}: {e}\")\n",
        "\n",
        "    total = sum(class_counts.values())\n",
        "    print(f\"\\nInspection of `{path}`\")\n",
        "    print(f\"{'Class':<12}  Images  Modes               Top Resolutions\")\n",
        "    print(\"-\"*60)\n",
        "    for cls, cnt in class_counts.items():\n",
        "        modes_s = \", \".join(f\"{m}:{n}\" for m,n in class_modes[cls].items())\n",
        "        top3    = class_res[cls].most_common(3)\n",
        "        res_s   = \", \".join(f\"{w}×{h}:{n}\" for (w,h),n in top3)\n",
        "        print(f\"{cls:<12}  {cnt:<6}  {modes_s:<18}  {res_s}\")\n",
        "    print(f\"\\n→ Total images: {total}\\n\")\n",
        "\n",
        "\n",
        "def convert_and_save(src, dst, size):\n",
        "    \"\"\"\n",
        "    For each class folder in `src`, create same under `dst`, convert images to RGB and resize.\n",
        "    \"\"\"\n",
        "    os.makedirs(dst, exist_ok=True)\n",
        "    # copy csv\n",
        "    if os.path.exists(csv_src):\n",
        "        os.makedirs(os.path.dirname(csv_dst), exist_ok=True)\n",
        "        !cp \"{csv_src}\" \"{csv_dst}\"\n",
        "\n",
        "    for cls in sorted(os.listdir(src)):\n",
        "        src_cls = os.path.join(src, cls)\n",
        "        dst_cls = os.path.join(dst, cls)\n",
        "        if not os.path.isdir(src_cls):\n",
        "            continue\n",
        "        os.makedirs(dst_cls, exist_ok=True)\n",
        "\n",
        "        for fname in os.listdir(src_cls):\n",
        "            if not fname.lower().endswith(('.png','.jpg','.jpeg','.bmp','.tiff')):\n",
        "                continue\n",
        "            in_path  = os.path.join(src_cls, fname)\n",
        "            out_name = os.path.splitext(fname)[0] + \".png\"\n",
        "            out_path = os.path.join(dst_cls, out_name)\n",
        "            try:\n",
        "                with Image.open(in_path) as img:\n",
        "                    rgb = img.convert(\"RGB\")\n",
        "                    resized = rgb.resize(size, Image.BILINEAR)\n",
        "                    resized.save(out_path, format=\"PNG\")\n",
        "            except Exception as e:\n",
        "                print(f\"⚠️ Failed to convert {in_path}: {e}\")\n",
        "\n",
        "\n",
        "# ── Run everything ─────────────────────────────────────────────────────────\n",
        "print(\"🔍 Before conversion:\")\n",
        "inspect_directory(src_dir)\n",
        "\n",
        "print(\"🔄 Converting to 224×224 RGB and saving into destination…\")\n",
        "convert_and_save(src_dir, dest_dir, TARGET_SIZE)\n",
        "\n",
        "print(\"🔍 After conversion:\")\n",
        "inspect_directory(dest_dir)"
      ],
      "metadata": {
        "colab": {
          "base_uri": "https://localhost:8080/"
        },
        "id": "ok0yJBDE5DT2",
        "outputId": "7d08977d-17cc-4a00-8ac7-7f5656df8acb"
      },
      "execution_count": null,
      "outputs": [
        {
          "output_type": "stream",
          "name": "stdout",
          "text": [
            "🔍 Before conversion:\n",
            "\n",
            "Inspection of `/content/drive/MyDrive/Research Project 2025/Datasets/Samples/Source - MedMNIST Samples`\n",
            "Class         Images  Modes               Top Resolutions\n",
            "------------------------------------------------------------\n",
            "AbdomenCT     130     L:130               64×64:130\n",
            "BreastMRI     130     L:130               64×64:130\n",
            "CXR           130     L:130               64×64:130\n",
            "ChestCT       130     L:130               64×64:130\n",
            "HandXR        130     L:130               64×64:130\n",
            "HeadCT        130     L:130               64×64:130\n",
            "\n",
            "→ Total images: 780\n",
            "\n",
            "🔄 Converting to 224×224 RGB and saving into destination…\n",
            "🔍 After conversion:\n",
            "\n",
            "Inspection of `/content/drive/MyDrive/Research Project 2025/Preprocessed Datasets/Samples/Source - MedMNIST Labelled`\n",
            "Class         Images  Modes               Top Resolutions\n",
            "------------------------------------------------------------\n",
            "AbdomenCT     130     RGB:130             224×224:130\n",
            "BreastMRI     130     RGB:130             224×224:130\n",
            "CXR           130     RGB:130             224×224:130\n",
            "ChestCT       130     RGB:130             224×224:130\n",
            "HandXR        130     RGB:130             224×224:130\n",
            "HeadCT        130     RGB:130             224×224:130\n",
            "\n",
            "→ Total images: 780\n",
            "\n"
          ]
        }
      ]
    },
    {
      "cell_type": "markdown",
      "source": [
        "4) Inspect the target directory (labelled) before conversions. This is done on labelled directory for study purpose. We will be using only the unlabelled dataset for target in the domain adaptation experiments we are going to perform."
      ],
      "metadata": {
        "id": "JLd_FFOS7z1l"
      }
    },
    {
      "cell_type": "code",
      "source": [
        "import os\n",
        "from PIL import Image\n",
        "from collections import Counter, defaultdict\n",
        "\n",
        "# ── Configuration ──────────────────────────────────────────────────────────\n",
        "target_dir = \"/content/drive/MyDrive/Research Project 2025/Datasets/Samples/Target - VS Labelled\"\n",
        "# ── End configuration ──────────────────────────────────────────────────────\n",
        "\n",
        "def inspect_directory(path):\n",
        "    \"\"\"\n",
        "    Walk each class-subfolder under `path`, count images,\n",
        "    record channel modes and resolutions, then print a summary.\n",
        "    \"\"\"\n",
        "    class_counts = Counter()\n",
        "    class_modes  = defaultdict(Counter)\n",
        "    class_res    = defaultdict(Counter)\n",
        "\n",
        "    for cls in sorted(os.listdir(path)):\n",
        "        cls_path = os.path.join(path, cls)\n",
        "        if not os.path.isdir(cls_path):\n",
        "            continue\n",
        "        for fname in os.listdir(cls_path):\n",
        "            if not fname.lower().endswith(('.png','.jpg','.jpeg','.bmp','.tiff')):\n",
        "                continue\n",
        "            class_counts[cls] += 1\n",
        "            img_path = os.path.join(cls_path, fname)\n",
        "            try:\n",
        "                with Image.open(img_path) as img:\n",
        "                    class_modes[cls][img.mode] += 1\n",
        "                    class_res[cls][img.size] += 1\n",
        "            except Exception as e:\n",
        "                print(f\"❌ Error opening {img_path}: {e}\")\n",
        "\n",
        "    total = sum(class_counts.values())\n",
        "    print(f\"\\nInspection of `{path}`\")\n",
        "    print(f\"{'Class':<12}  Images  Modes               Top Resolutions\")\n",
        "    print(\"-\"*60)\n",
        "    for cls, cnt in class_counts.items():\n",
        "        modes_s = \", \".join(f\"{m}:{n}\" for m,n in class_modes[cls].items())\n",
        "        top3    = class_res[cls].most_common(3)\n",
        "        res_s   = \", \".join(f\"{w}×{h}:{n}\" for (w,h),n in top3)\n",
        "        print(f\"{cls:<12}  {cnt:<6}  {modes_s:<18}  {res_s}\")\n",
        "    print(f\"\\n→ Total images: {total}\\n\")\n",
        "\n",
        "# Run the inspection\n",
        "inspect_directory(target_dir)"
      ],
      "metadata": {
        "colab": {
          "base_uri": "https://localhost:8080/"
        },
        "id": "NNbcwbbD70Bm",
        "outputId": "c14d6fb6-4ffa-43a6-b93e-e5b92a79abe3"
      },
      "execution_count": null,
      "outputs": [
        {
          "output_type": "stream",
          "name": "stdout",
          "text": [
            "\n",
            "Inspection of `/content/drive/MyDrive/Research Project 2025/Datasets/Samples/Target - VS Labelled`\n",
            "Class         Images  Modes               Top Resolutions\n",
            "------------------------------------------------------------\n",
            "AbdomenCT     130     RGBA:130            512×512:130\n",
            "BreastMRI     130     L:73, RGBA:57       640×542:67, 512×512:57, 640×603:6\n",
            "CXR           130     L:130               1472×1171:2, 1634×1272:1, 1570×1156:1\n",
            "ChestCT       130     L:130               512×512:126, 260×197:1, 311×224:1\n",
            "HandXR        130     L:67, RGB:63        406×512:27, 407×512:9, 379×512:8\n",
            "HeadCT        130     L:130               512×512:130\n",
            "\n",
            "→ Total images: 780\n",
            "\n"
          ]
        }
      ]
    },
    {
      "cell_type": "markdown",
      "source": [
        "5) Now Target unlabelled directory is inspected."
      ],
      "metadata": {
        "id": "pAXq6oNOSFMS"
      }
    },
    {
      "cell_type": "code",
      "source": [
        "import os\n",
        "from PIL import Image\n",
        "from collections import Counter\n",
        "\n",
        "# ── Configuration ──────────────────────────────────────────────────────────\n",
        "unlabelled_dir = \"/content/drive/MyDrive/Research Project 2025/Datasets/Samples/Target - VS Unlabelled/Images\"\n",
        "# ── End configuration ──────────────────────────────────────────────────────\n",
        "\n",
        "# Prepare counters\n",
        "total_images = 0\n",
        "mode_counter = Counter()\n",
        "res_counter  = Counter()\n",
        "\n",
        "# Iterate all image files in the directory\n",
        "for fname in os.listdir(unlabelled_dir):\n",
        "    if not fname.lower().endswith(('.png', '.jpg', '.jpeg', '.bmp', '.tiff')):\n",
        "        continue\n",
        "    total_images += 1\n",
        "    img_path = os.path.join(unlabelled_dir, fname)\n",
        "    try:\n",
        "        with Image.open(img_path) as img:\n",
        "            mode_counter[img.mode] += 1\n",
        "            res_counter[img.size] += 1\n",
        "    except Exception as e:\n",
        "        print(f\"❌ Error opening {img_path}: {e}\")\n",
        "\n",
        "# Display results\n",
        "print(f\"\\nInspection of unlabelled target directory: `{unlabelled_dir}`\")\n",
        "print(f\"→ Total images: {total_images}\\n\")\n",
        "\n",
        "print(\"Modes:\")\n",
        "for mode, cnt in mode_counter.items():\n",
        "    print(f\"  {mode}: {cnt}\")\n",
        "\n",
        "print(\"\\nTop 5 Resolutions:\")\n",
        "for (w, h), cnt in res_counter.most_common(5):\n",
        "    print(f\"  {w}×{h}: {cnt}\")"
      ],
      "metadata": {
        "colab": {
          "base_uri": "https://localhost:8080/"
        },
        "id": "GyAhGI0HSFXE",
        "outputId": "e0cb1395-24ee-43ab-cc84-16c7183dcc6b"
      },
      "execution_count": null,
      "outputs": [
        {
          "output_type": "stream",
          "name": "stdout",
          "text": [
            "\n",
            "Inspection of unlabelled target directory: `/content/drive/MyDrive/Research Project 2025/Datasets/Samples/Target - VS Unlabelled/Images`\n",
            "→ Total images: 780\n",
            "\n",
            "Modes:\n",
            "  RGBA: 187\n",
            "  L: 530\n",
            "  RGB: 63\n",
            "\n",
            "Top 5 Resolutions:\n",
            "  512×512: 444\n",
            "  640×542: 67\n",
            "  406×512: 27\n",
            "  407×512: 9\n",
            "  379×512: 8\n"
          ]
        }
      ]
    },
    {
      "cell_type": "markdown",
      "source": [
        "5) Now let us convert these target (unlabelled) images to 224x224, with RGB (3 channels)."
      ],
      "metadata": {
        "id": "NmcdVW0yWpmY"
      }
    },
    {
      "cell_type": "code",
      "source": [
        "import os\n",
        "from PIL import Image\n",
        "from collections import Counter\n",
        "\n",
        "# ── Configuration ──────────────────────────────────────────────────────────\n",
        "src_img_dir   = \"/content/drive/MyDrive/Research Project 2025/Datasets/Samples/Target - VS Unlabelled/Images\"\n",
        "src_csv       = \"/content/drive/MyDrive/Research Project 2025/Datasets/Samples/Target - VS Unlabelled/Target sample labels.csv\"\n",
        "dst_base_dir  = \"/content/drive/MyDrive/Research Project 2025/Preprocessed Datasets/Samples/Target - VS Unlabelled\"\n",
        "dst_img_dir   = os.path.join(dst_base_dir, \"Images\")\n",
        "dst_csv       = os.path.join(dst_base_dir, \"Target sample labels.csv\")\n",
        "\n",
        "TARGET_SIZE   = (224, 224)  # width, height\n",
        "# ── End configuration ──────────────────────────────────────────────────────\n",
        "\n",
        "# 1) Create destination folders\n",
        "os.makedirs(dst_img_dir, exist_ok=True)\n",
        "\n",
        "# 2) Copy CSV\n",
        "if os.path.exists(src_csv):\n",
        "    os.makedirs(os.path.dirname(dst_csv), exist_ok=True)\n",
        "\n",
        "    import shutil\n",
        "    shutil.copy2(src_csv, dst_csv)\n",
        "    print(f\"✅ Copied CSV to {dst_csv}\")\n",
        "else:\n",
        "    print(f\"⚠️ Source CSV not found at {src_csv}\")\n",
        "\n",
        "# 3) Convert images\n",
        "failed = []\n",
        "for fname in os.listdir(src_img_dir):\n",
        "    if not fname.lower().endswith(('.png','.jpg','.jpeg','.bmp','.tiff')):\n",
        "        continue\n",
        "    src_path = os.path.join(src_img_dir, fname)\n",
        "    dst_fname = os.path.splitext(fname)[0] + \".png\"\n",
        "    dst_path = os.path.join(dst_img_dir, dst_fname)\n",
        "    try:\n",
        "        with Image.open(src_path) as img:\n",
        "            rgb = img.convert(\"RGB\")\n",
        "            resized = rgb.resize(TARGET_SIZE, Image.BILINEAR)\n",
        "            resized.save(dst_path, format=\"PNG\")\n",
        "    except Exception as e:\n",
        "        failed.append((fname, str(e)))\n",
        "if failed:\n",
        "    print(\"⚠️ Failed conversions:\", failed)\n",
        "else:\n",
        "    print(f\"✅ Converted all images to {TARGET_SIZE} RGB and saved to {dst_img_dir}\")\n",
        "\n",
        "# 4) Re-inspect converted directory\n",
        "total = 0\n",
        "mode_counter = Counter()\n",
        "res_counter  = Counter()\n",
        "\n",
        "for fname in os.listdir(dst_img_dir):\n",
        "    if not fname.lower().endswith('.png'):\n",
        "        continue\n",
        "    total += 1\n",
        "    path = os.path.join(dst_img_dir, fname)\n",
        "    try:\n",
        "        with Image.open(path) as img:\n",
        "            mode_counter[img.mode] += 1\n",
        "            res_counter[img.size] += 1\n",
        "    except Exception as e:\n",
        "        print(f\"❌ Error opening {path}: {e}\")\n",
        "\n",
        "# 5) Display results\n",
        "print(\"\\nPost-conversion inspection:\")\n",
        "print(f\"→ Total images: {total}\")\n",
        "print(\"\\nModes:\")\n",
        "for mode, cnt in mode_counter.items():\n",
        "    print(f\"  {mode}: {cnt}\")\n",
        "print(\"\\nTop 5 Resolutions:\")\n",
        "for (w, h), cnt in res_counter.most_common(5):\n",
        "    print(f\"  {w}×{h}: {cnt}\")\n"
      ],
      "metadata": {
        "colab": {
          "base_uri": "https://localhost:8080/"
        },
        "id": "6GPA-Y3oWp1b",
        "outputId": "3b06cfd9-42e6-46ca-facb-ccca9e5c1cd8"
      },
      "execution_count": null,
      "outputs": [
        {
          "output_type": "stream",
          "name": "stdout",
          "text": [
            "✅ Copied CSV to /content/drive/MyDrive/Research Project 2025/Preprocessed Datasets/Samples/Target - VS Unlabelled/Target sample labels.csv\n",
            "✅ Converted all images to (224, 224) RGB and saved to /content/drive/MyDrive/Research Project 2025/Preprocessed Datasets/Samples/Target - VS Unlabelled/Images\n",
            "\n",
            "Post-conversion inspection:\n",
            "→ Total images: 780\n",
            "\n",
            "Modes:\n",
            "  RGB: 780\n",
            "\n",
            "Top 5 Resolutions:\n",
            "  224×224: 780\n"
          ]
        }
      ]
    }
  ]
}